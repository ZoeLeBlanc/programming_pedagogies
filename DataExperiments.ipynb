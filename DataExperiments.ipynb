{
 "cells": [
  {
   "cell_type": "code",
   "execution_count": 1,
   "metadata": {},
   "outputs": [],
   "source": [
    "import pandas as pd\n",
    "import os"
   ]
  },
  {
   "attachments": {},
   "cell_type": "markdown",
   "metadata": {},
   "source": [
    "### Notes"
   ]
  },
  {
   "attachments": {},
   "cell_type": "markdown",
   "metadata": {},
   "source": [
    "Trying to experiment with loading in data programmatically"
   ]
  },
  {
   "cell_type": "code",
   "execution_count": 2,
   "metadata": {},
   "outputs": [],
   "source": [
    "files = os.listdir('repo_data/')"
   ]
  },
  {
   "cell_type": "code",
   "execution_count": 9,
   "metadata": {},
   "outputs": [
    {
     "name": "stdout",
     "output_type": "stream",
     "text": [
      "directory repo_data/\n",
      "directory repo_data/humanities\n",
      "directory repo_data/public_history\n",
      "directory repo_data/cultural_analytics\n",
      "directory repo_data/computational_humanities\n",
      "directory repo_data/digital_history\n",
      "directory repo_data/digital_cultural_heritage\n",
      "directory repo_data/digital_humanities\n"
     ]
    }
   ],
   "source": [
    "initial_dfs = []\n",
    "for dir, subdir, files in os.walk('repo_data/'):\n",
    "    print(\"directory\", dir)\n",
    "    # print(\"subdirectory\", subdir)\n",
    "    # print(\"files\", files)\n",
    "    for file in files:\n",
    "        if file.endswith('.csv'):\n",
    "            # print(\"file\", file)\n",
    "            df = pd.read_csv(os.path.join(dir, file))\n",
    "            df['file_path'] = os.path.join(dir, file)\n",
    "            df['directory'] = dir\n",
    "            initial_dfs.append(df)"
   ]
  },
  {
   "cell_type": "code",
   "execution_count": 10,
   "metadata": {},
   "outputs": [
    {
     "name": "stderr",
     "output_type": "stream",
     "text": [
      "/var/folders/fc/c_5vvt992871rr8qbqy645340000gq/T/ipykernel_54998/3633843701.py:1: FutureWarning: Behavior when concatenating bool-dtype and numeric-dtype arrays is deprecated; in a future version these will cast to object dtype (instead of coercing bools to numeric values). To retain the old behavior, explicitly cast bool-dtype arrays to numeric dtype.\n",
      "  combined_df = pd.concat(initial_dfs)\n"
     ]
    }
   ],
   "source": [
    "combined_df = pd.concat(initial_dfs)"
   ]
  },
  {
   "cell_type": "code",
   "execution_count": 12,
   "metadata": {},
   "outputs": [
    {
     "data": {
      "text/plain": [
       "repo_data/humanities                   3172\n",
       "repo_data/digital_humanities           2073\n",
       "repo_data/digital_history               609\n",
       "repo_data/public_history                521\n",
       "repo_data/cultural_analytics            104\n",
       "repo_data/computational_humanities       68\n",
       "repo_data/digital_cultural_heritage      30\n",
       "Name: directory, dtype: int64"
      ]
     },
     "execution_count": 12,
     "metadata": {},
     "output_type": "execute_result"
    }
   ],
   "source": [
    "combined_df.directory.value_counts()"
   ]
  },
  {
   "attachments": {},
   "cell_type": "markdown",
   "metadata": {},
   "source": [
    "- Need to subset the data to only include repositories related to teaching"
   ]
  },
  {
   "cell_type": "code",
   "execution_count": null,
   "metadata": {},
   "outputs": [],
   "source": []
  }
 ],
 "metadata": {
  "kernelspec": {
   "display_name": "programming-pedagogies-env",
   "language": "python",
   "name": "python3"
  },
  "language_info": {
   "codemirror_mode": {
    "name": "ipython",
    "version": 3
   },
   "file_extension": ".py",
   "mimetype": "text/x-python",
   "name": "python",
   "nbconvert_exporter": "python",
   "pygments_lexer": "ipython3",
   "version": "3.9.16"
  },
  "orig_nbformat": 4,
  "vscode": {
   "interpreter": {
    "hash": "b2008c0961c2ecb0b1c46547ddcbc89faa879c952d895c6679057017d5ffa8f4"
   }
  }
 },
 "nbformat": 4,
 "nbformat_minor": 2
}
