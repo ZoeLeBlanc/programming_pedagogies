{
 "cells": [
  {
   "attachments": {},
   "cell_type": "markdown",
   "metadata": {},
   "source": [
    "### Imports, Warnings, and Defined Pedagogy Terms"
   ]
  },
  {
   "cell_type": "code",
   "execution_count": null,
   "metadata": {},
   "outputs": [],
   "source": [
    "import pandas as pd"
   ]
  },
  {
   "cell_type": "code",
   "execution_count": null,
   "metadata": {},
   "outputs": [],
   "source": [
    "import warnings\n",
    "warnings.filterwarnings('ignore')"
   ]
  },
  {
   "cell_type": "code",
   "execution_count": null,
   "metadata": {},
   "outputs": [],
   "source": [
    "potential_pedagogy_terms = [\n",
    "    \"pedagogy\",\n",
    "    \"teaching\",\n",
    "    \"education\",\n",
    "    \"learning\",\n",
    "    \"curriculum\",\n",
    "    \"instruction\",\n",
    "    \"syllabus\",\n",
    "    \"paper\",\n",
    "    \"class\",\n",
    "    \"course\",\n",
    "    \"lesson\",\n",
    "    \"lecture\",\n",
    "    \"semester\"\n",
    "    ]"
   ]
  },
  {
   "attachments": {},
   "cell_type": "markdown",
   "metadata": {},
   "source": [
    "### Terms in \"Computational Humanities\" Search Data  "
   ]
  },
  {
   "cell_type": "code",
   "execution_count": null,
   "metadata": {},
   "outputs": [],
   "source": [
    "computational_humanities_repo_data = pd.read_csv(\n",
    "    \"repo_data/computational_humanities/repos_searched_Computational+Humanities.csv\")\n"
   ]
  },
  {
   "cell_type": "code",
   "execution_count": null,
   "metadata": {},
   "outputs": [],
   "source": [
    "computational_humanities_repo_data[\"lower_description\"] = computational_humanities_repo_data[\"description\"].str.lower()\n",
    "computational_humanities_repo_data[\"lower_name\"] = computational_humanities_repo_data[\"name\"].str.lower()\n"
   ]
  },
  {
   "cell_type": "code",
   "execution_count": null,
   "metadata": {},
   "outputs": [],
   "source": [
    "dfs_computational_humanities = []\n",
    "for term in potential_pedagogy_terms:\n",
    "    selected_rows = computational_humanities_repo_data[(computational_humanities_repo_data[\"lower_description\"].str.contains(term)) | (computational_humanities_repo_data[\"lower_name\"].str.contains(term))]\n",
    "    print(term, len(selected_rows))\n",
    "    dfs_computational_humanities.append(selected_rows)"
   ]
  },
  {
   "cell_type": "code",
   "execution_count": null,
   "metadata": {},
   "outputs": [],
   "source": [
    "computational_humanities_pedagogy_df = pd.concat(dfs_computational_humanities)\n",
    "computational_humanities_pedagogy_df = computational_humanities_pedagogy_df.drop_duplicates()\n",
    "computational_humanities_pedagogy_df"
   ]
  },
  {
   "attachments": {},
   "cell_type": "markdown",
   "metadata": {},
   "source": [
    "### Terms in \"Cultural Analytics\" Search Data  "
   ]
  },
  {
   "cell_type": "code",
   "execution_count": null,
   "metadata": {},
   "outputs": [],
   "source": [
    "cultural_analytics_repo_data = pd.read_csv(\n",
    "    \"repo_data/cultural_analytics/repos_searched_Cultural+Analytics.csv\")"
   ]
  },
  {
   "cell_type": "code",
   "execution_count": null,
   "metadata": {},
   "outputs": [],
   "source": [
    "cultural_analytics_repo_data[\"lower_description\"] = cultural_analytics_repo_data[\"description\"].str.lower()\n",
    "cultural_analytics_repo_data[\"lower_name\"] = cultural_analytics_repo_data[\"name\"].str.lower()\n"
   ]
  },
  {
   "cell_type": "code",
   "execution_count": null,
   "metadata": {},
   "outputs": [],
   "source": [
    "dfs_cultural_analytics = []\n",
    "for term in potential_pedagogy_terms:\n",
    "    selected_rows = cultural_analytics_repo_data[(cultural_analytics_repo_data[\"lower_description\"].str.contains(term)) | (cultural_analytics_repo_data[\"lower_name\"].str.contains(term))]\n",
    "    print(term, len(selected_rows))\n",
    "    dfs_cultural_analytics.append(selected_rows)"
   ]
  },
  {
   "cell_type": "code",
   "execution_count": null,
   "metadata": {},
   "outputs": [],
   "source": [
    "cultural_analytics_pedagogy_df = pd.concat(dfs_cultural_analytics)\n",
    "cultural_analytics__pedagogy_df = cultural_analytics_pedagogy_df.drop_duplicates()\n",
    "cultural_analytics_pedagogy_df"
   ]
  },
  {
   "attachments": {},
   "cell_type": "markdown",
   "metadata": {},
   "source": [
    "### Terms in \"Digital Cultural Heritage\" Search Data  "
   ]
  },
  {
   "cell_type": "code",
   "execution_count": null,
   "metadata": {},
   "outputs": [],
   "source": [
    "digital_cultural_heritage_repo_data = pd.read_csv(\n",
    "    \"repo_data/digital_cultural_heritage/repos_searched_Digital+Cultural+Heritage.csv\")"
   ]
  },
  {
   "cell_type": "code",
   "execution_count": null,
   "metadata": {},
   "outputs": [],
   "source": [
    "digital_cultural_heritage_repo_data[\"lower_description\"] = digital_cultural_heritage_repo_data[\"description\"].str.lower()\n",
    "digital_cultural_heritage_repo_data[\"lower_name\"] = digital_cultural_heritage_repo_data[\"name\"].str.lower()\n"
   ]
  },
  {
   "cell_type": "code",
   "execution_count": null,
   "metadata": {},
   "outputs": [],
   "source": [
    "dfs_digital_cultural_heritage = []\n",
    "for term in potential_pedagogy_terms:\n",
    "    selected_rows = digital_cultural_heritage_repo_data[(digital_cultural_heritage_repo_data[\"lower_description\"].str.contains(term)) | (digital_cultural_heritage_repo_data[\"lower_name\"].str.contains(term))]\n",
    "    print(term, len(selected_rows))\n",
    "    dfs_digital_cultural_heritage.append(selected_rows)"
   ]
  },
  {
   "cell_type": "code",
   "execution_count": null,
   "metadata": {},
   "outputs": [],
   "source": [
    "digital_cultural_heritage_pedagogy_df = pd.concat(dfs_digital_cultural_heritage)\n",
    "digital_cultural_heritage_pedagogy_df = digital_cultural_heritage_pedagogy_df.drop_duplicates()\n",
    "digital_cultural_heritage_pedagogy_df"
   ]
  },
  {
   "attachments": {},
   "cell_type": "markdown",
   "metadata": {},
   "source": [
    "### Terms in \"Digital History\" Search Data"
   ]
  },
  {
   "cell_type": "code",
   "execution_count": null,
   "metadata": {},
   "outputs": [],
   "source": [
    "digital_history_repo_data = pd.read_csv(\n",
    "    \"repo_data/digital_history/repos_searched_Digital+History.csv\")"
   ]
  },
  {
   "cell_type": "code",
   "execution_count": null,
   "metadata": {},
   "outputs": [],
   "source": [
    "digital_history_repo_data[\"lower_description\"] = digital_history_repo_data[\"description\"].str.lower()\n",
    "digital_history_repo_data[\"lower_name\"] = digital_history_repo_data[\"name\"].str.lower()\n"
   ]
  },
  {
   "cell_type": "code",
   "execution_count": null,
   "metadata": {},
   "outputs": [],
   "source": [
    "dfs_digital_history = []\n",
    "for term in potential_pedagogy_terms:\n",
    "    selected_rows = digital_history_repo_data[(digital_history_repo_data[\"lower_description\"].str.contains(term)) | (digital_history_repo_data[\"lower_name\"].str.contains(term))]\n",
    "    print(term, len(selected_rows))\n",
    "    dfs_digital_history.append(selected_rows)"
   ]
  },
  {
   "cell_type": "code",
   "execution_count": null,
   "metadata": {},
   "outputs": [],
   "source": [
    "digital_history_pedagogy_df = pd.concat(dfs_digital_history)\n",
    "digital_history_pedagogy_df = digital_history_pedagogy_df.drop_duplicates()\n",
    "digital_history_pedagogy_df"
   ]
  },
  {
   "attachments": {},
   "cell_type": "markdown",
   "metadata": {},
   "source": [
    "### Terms in \"Digital Art History\" Tagged Data"
   ]
  },
  {
   "cell_type": "code",
   "execution_count": null,
   "metadata": {},
   "outputs": [],
   "source": [
    "digital_art_history_repo_data = pd.read_csv(\n",
    "    \"repo_data/digital_history/repos_tagged_digital-art-history.csv\")"
   ]
  },
  {
   "cell_type": "code",
   "execution_count": null,
   "metadata": {},
   "outputs": [],
   "source": [
    "digital_art_history_repo_data[\"lower_description\"] = digital_art_history_repo_data[\"description\"].str.lower()\n",
    "digital_art_history_repo_data[\"lower_name\"] = digital_art_history_repo_data[\"name\"].str.lower()\n"
   ]
  },
  {
   "cell_type": "code",
   "execution_count": null,
   "metadata": {},
   "outputs": [],
   "source": [
    "dfs_digital_art_history = []\n",
    "for term in potential_pedagogy_terms:\n",
    "    selected_rows = digital_art_history_repo_data[(digital_art_history_repo_data[\"lower_description\"].str.contains(term)) | (digital_art_history_repo_data[\"lower_name\"].str.contains(term))]\n",
    "    print(term, len(selected_rows))\n",
    "    dfs_digital_art_history.append(selected_rows)"
   ]
  },
  {
   "cell_type": "code",
   "execution_count": null,
   "metadata": {},
   "outputs": [],
   "source": [
    "digital_art_history_pedagogy_df = pd.concat(dfs_digital_art_history)\n",
    "digital_art_history_pedagogy_df = digital_art_history_pedagogy_df.drop_duplicates()\n",
    "digital_art_history_pedagogy_df"
   ]
  },
  {
   "attachments": {},
   "cell_type": "markdown",
   "metadata": {},
   "source": [
    "### Terms in \"Digital Humanities\" Search Data, 2022 csv"
   ]
  },
  {
   "cell_type": "code",
   "execution_count": null,
   "metadata": {},
   "outputs": [],
   "source": [
    "digital_humanities_2022_repo_data = pd.read_csv(\n",
    "    \"repo_data/digital_humanities/repos_search_Digital+Humanities_2022.csv\")"
   ]
  },
  {
   "cell_type": "code",
   "execution_count": null,
   "metadata": {},
   "outputs": [],
   "source": [
    "digital_humanities_2022_repo_data[\"lower_description\"] = digital_humanities_2022_repo_data[\"description\"].str.lower()\n",
    "digital_humanities_2022_repo_data[\"lower_name\"] = digital_humanities_2022_repo_data[\"name\"].str.lower()\n"
   ]
  },
  {
   "cell_type": "code",
   "execution_count": null,
   "metadata": {},
   "outputs": [],
   "source": [
    "dfs_digital_humanities_2022 = []\n",
    "for term in potential_pedagogy_terms:\n",
    "    selected_rows = digital_humanities_2022_repo_data[(digital_humanities_2022_repo_data[\"lower_description\"].str.contains(term)) | (digital_humanities_2022_repo_data[\"lower_name\"].str.contains(term))]\n",
    "    print(term, len(selected_rows))\n",
    "    dfs_digital_humanities_2022.append(selected_rows)"
   ]
  },
  {
   "cell_type": "code",
   "execution_count": null,
   "metadata": {},
   "outputs": [],
   "source": [
    "digital_humanities_2022_pedagogy_df = pd.concat(dfs_digital_humanities_2022)\n",
    "digital_humanities_2022_pedagogy_df = digital_humanities_2022_pedagogy_df.drop_duplicates()\n",
    "digital_humanities_2022_pedagogy_df"
   ]
  },
  {
   "attachments": {},
   "cell_type": "markdown",
   "metadata": {},
   "source": [
    "### Terms in \"Humanities\" Search Data, 2022 csv"
   ]
  },
  {
   "cell_type": "code",
   "execution_count": null,
   "metadata": {},
   "outputs": [],
   "source": [
    "humanities_2022_repo_data = pd.read_csv(\n",
    "    \"repo_data/humanities/repos_search_Humanities_2022.csv\")"
   ]
  },
  {
   "cell_type": "code",
   "execution_count": null,
   "metadata": {},
   "outputs": [],
   "source": [
    "humanities_2022_repo_data[\"lower_description\"] = humanities_2022_repo_data[\"description\"].str.lower()\n",
    "humanities_2022_repo_data[\"lower_name\"] = humanities_2022_repo_data[\"name\"].str.lower()\n"
   ]
  },
  {
   "cell_type": "code",
   "execution_count": null,
   "metadata": {},
   "outputs": [],
   "source": [
    "dfs_humanities_2022 = []\n",
    "for term in potential_pedagogy_terms:\n",
    "    selected_rows = humanities_2022_repo_data[(humanities_2022_repo_data[\"lower_description\"].str.contains(term)) | (humanities_2022_repo_data[\"lower_name\"].str.contains(term))]\n",
    "    print(term, len(selected_rows))\n",
    "    dfs_humanities_2022.append(selected_rows)"
   ]
  },
  {
   "cell_type": "code",
   "execution_count": null,
   "metadata": {},
   "outputs": [],
   "source": [
    "humanities_2022_pedagogy_df = pd.concat(dfs_humanities_2022)\n",
    "humanities_2022_pedagogy_df = humanities_2022_pedagogy_df.drop_duplicates()\n",
    "humanities_2022_pedagogy_df"
   ]
  },
  {
   "attachments": {},
   "cell_type": "markdown",
   "metadata": {},
   "source": [
    "### Terms in \"Public History\" Search Data"
   ]
  },
  {
   "cell_type": "code",
   "execution_count": null,
   "metadata": {},
   "outputs": [],
   "source": [
    "public_history_repo_data = pd.read_csv(\n",
    "    \"repo_data/public_history/repos_search_Public+History.csv\")"
   ]
  },
  {
   "cell_type": "code",
   "execution_count": null,
   "metadata": {},
   "outputs": [],
   "source": [
    "public_history_repo_data[\"lower_description\"] = public_history_repo_data[\"description\"].str.lower()\n",
    "public_history_repo_data[\"lower_name\"] = public_history_repo_data[\"name\"].str.lower()\n"
   ]
  },
  {
   "cell_type": "code",
   "execution_count": null,
   "metadata": {},
   "outputs": [],
   "source": [
    "dfs_public_history = []\n",
    "for term in potential_pedagogy_terms:\n",
    "    selected_rows = public_history_repo_data[(public_history_repo_data[\"lower_description\"].str.contains(term)) | (public_history_repo_data[\"lower_name\"].str.contains(term))]\n",
    "    print(term, len(selected_rows))\n",
    "    dfs_public_history.append(selected_rows)"
   ]
  },
  {
   "cell_type": "code",
   "execution_count": null,
   "metadata": {},
   "outputs": [],
   "source": [
    "public_history_pedagogy_df = pd.concat(dfs_public_history)\n",
    "public_history_pedagogy_df = public_history_pedagogy_df.drop_duplicates()\n",
    "public_history_pedagogy_df"
   ]
  },
  {
   "cell_type": "markdown",
   "metadata": {},
   "source": []
  }
 ],
 "metadata": {
  "kernelspec": {
   "display_name": "Python 3",
   "language": "python",
   "name": "python3"
  },
  "language_info": {
   "codemirror_mode": {
    "name": "ipython",
    "version": 3
   },
   "file_extension": ".py",
   "mimetype": "text/x-python",
   "name": "python",
   "nbconvert_exporter": "python",
   "pygments_lexer": "ipython3",
   "version": "3.10.6"
  },
  "orig_nbformat": 4,
  "vscode": {
   "interpreter": {
    "hash": "aee8b7b246df8f9039afb4144a1f6fd8d2ca17a180786b69acc140d282b71a49"
   }
  }
 },
 "nbformat": 4,
 "nbformat_minor": 2
}
